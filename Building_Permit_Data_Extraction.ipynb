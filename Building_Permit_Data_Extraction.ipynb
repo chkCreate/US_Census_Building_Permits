{
 "cells": [
  {
   "cell_type": "markdown",
   "metadata": {},
   "source": [
    "# Building Permit Data Extraction"
   ]
  },
  {
   "cell_type": "code",
   "execution_count": null,
   "metadata": {},
   "outputs": [],
   "source": [
    "# Import Dependencies\n",
    "import os\n",
    "import glob\n",
    "import pandas as pd"
   ]
  },
  {
   "cell_type": "markdown",
   "metadata": {},
   "source": [
    "## Webscrape multiple text files from US Census website."
   ]
  },
  {
   "cell_type": "code",
   "execution_count": null,
   "metadata": {},
   "outputs": [],
   "source": []
  },
  {
   "cell_type": "code",
   "execution_count": null,
   "metadata": {},
   "outputs": [],
   "source": []
  },
  {
   "cell_type": "code",
   "execution_count": null,
   "metadata": {},
   "outputs": [],
   "source": []
  },
  {
   "cell_type": "markdown",
   "metadata": {},
   "source": [
    "## Integrate multiple text files into one dataframe as a csv file."
   ]
  },
  {
   "cell_type": "code",
   "execution_count": null,
   "metadata": {},
   "outputs": [],
   "source": [
    "# 1. get a list of all text files in target directory\n",
    "os.chdir(r\"C:\\Users\\haiyo\\DC\\US_Census_Building_Permits\\Text_files_from_USCB\")"
   ]
  },
  {
   "cell_type": "code",
   "execution_count": null,
   "metadata": {},
   "outputs": [],
   "source": [
    "# 2. Build up list of files\n",
    "filenames = [i for i in glob.glob(\"*.txt\")]"
   ]
  },
  {
   "cell_type": "code",
   "execution_count": null,
   "metadata": {},
   "outputs": [],
   "source": [
    "# 3. Build up DataFrame\n",
    "df = pd.DataFrame()\n",
    "for ijk in filenames:\n",
    "    frame = pd.read_csv(ijk, sep = \",\", header=True)\n",
    "    All_data = df.append(frame)\n",
    "print df\n",
    "\n",
    "# df = [pd.read_csv(file, sep = \",\", header=True) \n",
    "#      for file in filenames]\n",
    "# All_data = pd.concat(df)                   ## Concatenating the data\n",
    "# All_data = All_data.reset_index(drop=True) ## Resetting the index and removing old index\n"
   ]
  },
  {
   "cell_type": "code",
   "execution_count": null,
   "metadata": {},
   "outputs": [],
   "source": [
    "# 4. Export to master csv file\n",
    "All_data.to_csv(r\"C:\\Users\\haiyo\\DC\\US_Census_Building_Permits\\Building_Permit_Data\\Building_Permit_Database.csv\", /\n",
    "                sep=' ,', index=False, header=True)\n"
   ]
  }
 ],
 "metadata": {
  "kernelspec": {
   "display_name": "PythonData",
   "language": "python",
   "name": "pythondata"
  },
  "language_info": {
   "codemirror_mode": {
    "name": "ipython",
    "version": 3
   },
   "file_extension": ".py",
   "mimetype": "text/x-python",
   "name": "python",
   "nbconvert_exporter": "python",
   "pygments_lexer": "ipython3",
   "version": "3.7.9"
  }
 },
 "nbformat": 4,
 "nbformat_minor": 4
}
